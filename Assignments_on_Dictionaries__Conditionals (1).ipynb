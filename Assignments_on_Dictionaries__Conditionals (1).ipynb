{
 "cells": [
  {
   "cell_type": "markdown",
   "metadata": {},
   "source": [
    "## 1.\n",
    "\n",
    "A triangle can be classified based on the lengths of its sides as equilateral, isosceles or\n",
    "scalene. All three sides of an equilateral triangle have the same length. An isosceles\n",
    "triangle has two sides that are the same length, and a third side that is a different\n",
    "length. If all of the sides have different lengths then the triangle is scalene.\n",
    "Write a program that reads the lengths of the three sides of a triangle from the\n",
    "user. Then display a message that states the triangle’s type."
   ]
  },
  {
   "cell_type": "code",
   "execution_count": 3,
   "metadata": {},
   "outputs": [
    {
     "name": "stdout",
     "output_type": "stream",
     "text": [
      "What is the length of the first side? 20\n",
      "What is the length of the second side? 12\n",
      "What is the length of the third side? 10\n",
      "This is an scalene triangle\n"
     ]
    }
   ],
   "source": [
    " A = input(\"What is the length of the first side? \")  #length of side\n",
    " B = input(\"What is the length of the second side? \")   #length of side b\n",
    "C = input(\"What is the length of the third side? \")   #length of side c\n",
    "if A == B and B == C:\n",
    "    print(\"This is an equilateral triangle\")\n",
    "elif A == B and B != C:\n",
    "    print(\"This is an isosceles triangle\")\n",
    "else:\n",
    "    print(\"This is an scalene triangle\")\n",
    "\n",
    "\n"
   ]
  },
  {
   "cell_type": "markdown",
   "metadata": {},
   "source": [
    "## 2.\n",
    "\n",
    "Create a dictionary, then write a code to check whether a given key already exists in the dictionary"
   ]
  },
  {
   "cell_type": "code",
   "execution_count": 24,
   "metadata": {},
   "outputs": [
    {
     "data": {
      "text/plain": [
       "'ade'"
      ]
     },
     "execution_count": 24,
     "metadata": {},
     "output_type": "execute_result"
    }
   ],
   "source": [
    "dict = {\"name\":[\"ade\",\"sade\",\"olu\"],\"age\":12,\"sex\":\"m\"}\n",
    "\n",
    "dict[\"name\"][0]\n"
   ]
  },
  {
   "cell_type": "markdown",
   "metadata": {},
   "source": [
    "## 3.\n",
    "\n",
    "Create a dictionary, then write a Python program to remove a key from the dictionary. "
   ]
  },
  {
   "cell_type": "code",
   "execution_count": 40,
   "metadata": {},
   "outputs": [
    {
     "name": "stdout",
     "output_type": "stream",
     "text": [
      "{'name': ['ade', 'sade', 'olu'], 'age': 12}\n"
     ]
    }
   ],
   "source": [
    "dict2 = {\"name\":[\"ade\",\"sade\",\"olu\"],\"age\":12,\"sex\":\"m\"}\n",
    "\n",
    "dict2.pop(\"sex\")\n",
    "\n",
    "print(dict2)"
   ]
  },
  {
   "cell_type": "markdown",
   "metadata": {},
   "source": [
    "## 4.\n",
    "\n",
    "Create a dictionary that contains Name, Location, Gender, Age as keys, then write a code that changes \"Location\" to \"City\"."
   ]
  },
  {
   "cell_type": "code",
   "execution_count": 51,
   "metadata": {},
   "outputs": [
    {
     "name": "stdout",
     "output_type": "stream",
     "text": [
      "{'name': ['ade', 'sade', 'olu'], 'age': 12, 'sex': 'm', 'city': ['lagos', 'ketu', 'mile2']}\n"
     ]
    }
   ],
   "source": [
    "dict3 = {\"name\":[\"ade\",\"sade\",\"olu\"],\"age\":12,\"sex\":\"m\",\"location\":[\"lagos\",\"ketu\",\"mile2\"]}\n",
    "\n",
    "dict3.pop(\"location\")\n",
    "\n",
    "dict3[\"city\"] = [\"lagos\",\"ketu\",\"mile2\"]\n",
    "#keys in dictionary once created can not be changed. you can only pop the old key and add a new key\n",
    "\n",
    "print(dict3)\n"
   ]
  },
  {
   "cell_type": "markdown",
   "metadata": {},
   "source": [
    "## 5.\n",
    "\n",
    "details = {\n",
    "     'person1': {'name': 'Chioma', 'salary': 7500, 'age': 22},\n",
    "     'person2': {'name': 'Tosin', 'salary': 8000, 'age': 25},\n",
    "     'person3': {'name': 'Promise', 'salary': 6500, 'age': 28}\n",
    "}\n",
    "\n",
    "Write a code that changes Tosin's salary to 9000"
   ]
  },
  {
   "cell_type": "code",
   "execution_count": 53,
   "metadata": {},
   "outputs": [
    {
     "name": "stdout",
     "output_type": "stream",
     "text": [
      "{'person1': {'name': 'Chioma', 'salary': 7500, 'age': 22}, 'person2': {'name': 'Tosin', 'salary': 9000, 'age': 25}, 'person3': {'name': 'Promise', 'salary': 6500, 'age': 28}}\n"
     ]
    }
   ],
   "source": [
    "details = { 'person1': {'name': 'Chioma', 'salary': 7500, 'age': 22}, 'person2': {'name': 'Tosin', 'salary': 8000, 'age': 25}, 'person3': {'name': 'Promise', 'salary': 6500, 'age': 28} }\n",
    "\n",
    "details[\"person2\"][\"salary\"] = 9000\n",
    "\n",
    "print(details)"
   ]
  },
  {
   "cell_type": "code",
   "execution_count": null,
   "metadata": {},
   "outputs": [],
   "source": [
    ",\"may\",\"july\",\"august\",\"october\",\"december\"]"
   ]
  },
  {
   "cell_type": "markdown",
   "metadata": {},
   "source": [
    "## 6.\n",
    "\n",
    "A month can last between 28 to 31 days. Write a code that reads the name of a month as a string from the user. The number of days in that month should then be shown by your output. Display \"28 or 29 days\" for February to account for leap years."
   ]
  },
  {
   "cell_type": "code",
   "execution_count": null,
   "metadata": {},
   "outputs": [],
   "source": [
    "month = input(\"What month? \")\n",
    "if month == [\"january\",\"march\",\"may\",\"july\",\"august\",\"october\",\"december\"] :\n",
    "    print(\"has 31 days\")\n",
    "    \n",
    "elif month == [\"april\",\"june\",\"september\",\"november\"]:\n",
    "    print(\"has 30 days\")\n",
    "    \n",
    "else:\n",
    "    print(\"has 28 or 29 days in a leap year\")"
   ]
  },
  {
   "cell_type": "markdown",
   "metadata": {},
   "source": [
    "## 7.\n",
    "\n",
    "Write an if statement that asks for the user's name via input() function. If the name is \"James\" make it print \"Welcome on board, James.\" Otherwise make it print an appropriate error message of your choice. \n",
    "\n",
    "Make sure you use the string formatting method."
   ]
  },
  {
   "cell_type": "code",
   "execution_count": 2,
   "metadata": {},
   "outputs": [
    {
     "name": "stdout",
     "output_type": "stream",
     "text": [
      "What is your name? chima\n",
      "Error,you don't belong here,chima\n"
     ]
    }
   ],
   "source": [
    "name = input(\"What is your name? \")\n",
    "\n",
    "if name == \"james\":\n",
    "    print(f\"Welcome on board,{name}\")\n",
    "    \n",
    "else:\n",
    "    print(f\"Error,you don't belong here,{name}\")"
   ]
  },
  {
   "cell_type": "markdown",
   "metadata": {},
   "source": [
    "## 8. \n",
    "\n",
    "Write a code that prompts the user to input a number, and then returns \"True\" if number is divisible by 3, and \"False\" if otherwise."
   ]
  },
  {
   "cell_type": "code",
   "execution_count": 10,
   "metadata": {},
   "outputs": [
    {
     "name": "stdout",
     "output_type": "stream",
     "text": [
      "What is the number? 30\n",
      "True\n"
     ]
    }
   ],
   "source": [
    "number = input(\"What is the number? \")\n",
    "\n",
    "if int(number) % 3 == 0:\n",
    "    print(\"True\")\n",
    "\n",
    "else:\n",
    "    print(\"False\")"
   ]
  },
  {
   "cell_type": "markdown",
   "metadata": {},
   "source": [
    "## 9.\n",
    "\n",
    "A school has following rules for grading system:\n",
    "- Below 40 - F\n",
    "- 41 to 45 - E\n",
    "- 45 to 49 - D\n",
    "- 50 to 60 - C\n",
    "- 60 to 69 - B\n",
    "- 70 and above - A\n",
    "\n",
    "Write a code that asks the user to enter his mark and then prints out the corresponding grade."
   ]
  },
  {
   "cell_type": "code",
   "execution_count": 1,
   "metadata": {},
   "outputs": [
    {
     "name": "stdout",
     "output_type": "stream",
     "text": [
      "What is your mark? 99\n",
      "A\n"
     ]
    }
   ],
   "source": [
    "mark = input(\"What is your mark? \")\n",
    "\n",
    "if int(mark) <= 40:\n",
    "    print(\"F\")\n",
    "    \n",
    "elif 41<= int(mark)<= 45:\n",
    "    print(\"E\")\n",
    "    \n",
    "elif 45<= int(mark)<= 49:\n",
    "    print(\"D\")\n",
    "    \n",
    "elif 50 <= int(mark) <= 60:\n",
    "    print(\"C\")\n",
    "    \n",
    "elif 60 <= int(mark) <= 69:\n",
    "    print(\"B\")\n",
    "    \n",
    "else:\n",
    "    print(\"A\")\n",
    "    "
   ]
  },
  {
   "cell_type": "markdown",
   "metadata": {},
   "source": [
    "## 10. \n",
    "\n",
    "A company decided to give bonus of 5% to employee if his/her year of service is more than 5 years.\n",
    "Write a code that asks the user to input their salary and years of service and then prints the net bonus amount.\n",
    "\n",
    "Use string format method"
   ]
  },
  {
   "cell_type": "code",
   "execution_count": 7,
   "metadata": {},
   "outputs": [
    {
     "name": "stdout",
     "output_type": "stream",
     "text": [
      "What is your salary? 20000\n",
      "What is your service year? 6\n",
      "21000.0\n"
     ]
    }
   ],
   "source": [
    "salary = input(\"What is your salary? \")\n",
    "\n",
    "service_year = input(\"What is your service year? \")\n",
    "\n",
    "b = int(salary)\n",
    "\n",
    "if int(service_year) > 5:\n",
    "    salary = b +(b * 0.05)\n",
    "    print(salary)\n",
    "else:\n",
    "    salary = salary\n",
    "    print(salary)\n",
    "\n"
   ]
  }
 ],
 "metadata": {
  "kernelspec": {
   "display_name": "Python 3",
   "language": "python",
   "name": "python3"
  },
  "language_info": {
   "codemirror_mode": {
    "name": "ipython",
    "version": 3
   },
   "file_extension": ".py",
   "mimetype": "text/x-python",
   "name": "python",
   "nbconvert_exporter": "python",
   "pygments_lexer": "ipython3",
   "version": "3.8.8"
  }
 },
 "nbformat": 4,
 "nbformat_minor": 4
}
